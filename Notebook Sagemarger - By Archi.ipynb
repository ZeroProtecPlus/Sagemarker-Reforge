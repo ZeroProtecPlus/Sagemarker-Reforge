{
 "cells": [
  {
   "cell_type": "markdown",
   "id": "23bf0d68-cd40-4803-bf04-7ede3e53b524",
   "metadata": {
    "id": "23bf0d68-cd40-4803-bf04-7ede3e53b524"
   },
   "source": [
    "# **reForge + Zrok Modificacion Archi** \n",
    "*Basado en Sagemarker de WhiteZ*"
   ]
  },
  {
   "cell_type": "markdown",
   "id": "2792b553-6479-4319-8c5f-4f4d38e00b01",
   "metadata": {
    "id": "2792b553-6479-4319-8c5f-4f4d38e00b01",
    "tags": []
   },
   "source": [
    "**1. BORRA TODOS LOS ARCHIVOS, USALO CON CADA INSTALACIÓN NUEVA** (Puedes ejecutarlo en CPU)"
   ]
  },
  {
   "cell_type": "code",
   "execution_count": null,
   "id": "ea5bcd71-2b71-4d27-90c1-053444ef33f0",
   "metadata": {
    "id": "ea5bcd71-2b71-4d27-90c1-053444ef33f0",
    "tags": []
   },
   "outputs": [],
   "source": [
    "!rm -r /home/studio-lab-user/.cache\n",
    "!rm -r /home/studio-lab-user/.conda\n",
    "!rm -r /home/studio-lab-user/.jupyter\n",
    "!rm -r /home/studio-lab-user/.sagemaker\n",
    "!conda remove -n \"env_name\" --all\n",
    "!rm -rf /home/studio-lab-user/*"
   ]
  },
  {
   "cell_type": "markdown",
   "id": "51708e59-4560-4d05-b97c-b51c9cea3aed",
   "metadata": {
    "id": "51708e59-4560-4d05-b97c-b51c9cea3aed",
    "tags": []
   },
   "source": [
    "**2. INSTALAR Y ACTUALIZAR PYTHON** (Puedes ejecutarlo en CPU)"
   ]
  },
  {
   "cell_type": "code",
   "execution_count": null,
   "id": "6dacb145-8fdf-4646-949b-601c6e7f39fe",
   "metadata": {
    "tags": []
   },
   "outputs": [],
   "source": [
    "import os\n",
    "\n",
    "os.environ[\"ROOT\"] = \"/home/studio-lab-user/stable-diffusion-webui-forge/\"\n",
    "os.environ[\"LD_PRELOAD\"] = \"/home/studio-lab-user/libtcmalloc_minimal.so.4\"\n",
    "os.environ['PATH'] = \"./zrok-conection/bin:\" + os.environ['PATH']\n",
    "\n",
    "!sed -i 's/\\r//' install.sh extensions.sh download.sh \n",
    "\n",
    "!bash install.sh\n",
    "!zrok version"
   ]
  },
  {
   "cell_type": "markdown",
   "id": "bdb19333-a203-4770-9eb0-3113e1fe1038",
   "metadata": {
    "id": "bdb19333-a203-4770-9eb0-3113e1fe1038",
    "tags": []
   },
   "source": [
    "**DESCARGAR MODELOS EN CARPETA TMP DEBES DE EJECUTARLA CADA VEZ QUE INICIES UNA NUEVA SESIÓN** (*no funcionara con CPU, solo con GPU*)"
   ]
  },
  {
   "cell_type": "code",
   "execution_count": null,
   "id": "dd423c3d-e66f-4563-8809-fcbd225d7e13",
   "metadata": {},
   "outputs": [],
   "source": [
    "%cd /home/studio-lab-user\n",
    "!bash download.sh"
   ]
  },
  {
   "cell_type": "markdown",
   "id": "0f9ebca1-b523-4a01-879c-1962d76e595b",
   "metadata": {
    "id": "0f9ebca1-b523-4a01-879c-1962d76e595b",
    "tags": []
   },
   "source": [
    "<h5><b>INSTALACION DE ZROK</b></h5>"
   ]
  },
  {
   "cell_type": "markdown",
   "id": "0f825aed",
   "metadata": {},
   "source": [
    "##### *Usar solamente en la terminal para crear cuenta en zrok*\n",
    "```bash\n",
    "export PATH=$PATH:/tmp/zrok/bin\n",
    "zrok invite\n",
    "```"
   ]
  },
  {
   "cell_type": "markdown",
   "id": "99a959d9",
   "metadata": {},
   "source": [
    "##### *activa o desactiva tu token de zrok, usar \"enable\" + tu token para activar y \"disable\" sin el token para desactivar*"
   ]
  },
  {
   "cell_type": "code",
   "execution_count": null,
   "id": "1ec23abf-911a-4391-916b-513b2676dfc7",
   "metadata": {
    "id": "1ec23abf-911a-4391-916b-513b2676dfc7",
    "tags": []
   },
   "outputs": [],
   "source": [
    "!zrok enable tu_token"
   ]
  },
  {
   "cell_type": "markdown",
   "id": "cb7290a3-3c47-4809-a214-ef41344d83bf",
   "metadata": {
    "id": "cb7290a3-3c47-4809-a214-ef41344d83bf",
    "tags": []
   },
   "source": [
    "**EJECUTAR SD**\n",
    "SOLO EJECUTAR EN GPU\n",
    "\n",
    "No olvide pegar su token NGROK a continuación. Crea un token aquí https://dashboard.ngrok.com/get-started/your-authtoken"
   ]
  },
  {
   "cell_type": "markdown",
   "id": "43579b8d-39e5-457c-b4dd-41af253a72c1",
   "metadata": {
    "id": "43579b8d-39e5-457c-b4dd-41af253a72c1",
    "tags": []
   },
   "source": [
    "<h5><b>LANZAR SD CON ZROK</b></h5>"
   ]
  },
  {
   "cell_type": "code",
   "execution_count": null,
   "id": "a6b7934d-e6ac-4535-a97f-bd12138fc7ad",
   "metadata": {
    "id": "a6b7934d-e6ac-4535-a97f-bd12138fc7ad",
    "scrolled": true,
    "tags": []
   },
   "outputs": [],
   "source": [
    "%cd ~/stable-diffusion-webui-reForge\n",
    "from multiprocessing import Process\n",
    "import time\n",
    "\n",
    "def run_command1():\n",
    "#   time.sleep(15)\n",
    "    !zrok share public http://localhost:7860 --headless\n",
    "\n",
    "def run_command2():\n",
    "    time.sleep(2)\n",
    "    !python launch.py --disable-xformers --no-half-vae --enable-insecure-extension-access --theme dark --gradio-queue --no-download-sd-model --ckpt /home/studio-lab-user/stable-diffusion-webui-reForge/models/Stable-diffusion/tmp_models\n",
    "\n",
    "if __name__ == '__main__':\n",
    "    p1 = Process(target=run_command1)\n",
    "    p2 = Process(target=run_command2)\n",
    "    p1.start()\n",
    "    p2.start()\n",
    "    p1.join()\n",
    "    p2.join()"
   ]
  },
  {
   "cell_type": "code",
   "execution_count": null,
   "id": "08cc20d4-3cb7-45b9-8ca7-506abe0cf79c",
   "metadata": {
    "id": "08cc20d4-3cb7-45b9-8ca7-506abe0cf79c",
    "tags": []
   },
   "outputs": [],
   "source": [
    "#Revisa el espacio disponible\n",
    "!df -h | grep -E 'Avail|home'"
   ]
  },
  {
   "cell_type": "code",
   "execution_count": null,
   "id": "1b1f44c9-4e71-41ef-ba9b-573fc9c3006f",
   "metadata": {
    "id": "1b1f44c9-4e71-41ef-ba9b-573fc9c3006f",
    "tags": []
   },
   "outputs": [],
   "source": [
    "#ver todas las carpetas y su tamaño\n",
    "!du -h --max-depth=1 /home/studio-lab-user/stable-diffusion-webui-reForge | sort -hr"
   ]
  },
  {
   "cell_type": "code",
   "execution_count": null,
   "id": "b8a56c3a-f0af-4c87-bf83-c99942a3a3b0",
   "metadata": {
    "id": "b8a56c3a-f0af-4c87-bf83-c99942a3a3b0"
   },
   "outputs": [],
   "source": [
    "#borrar y limpiar carpeta outputs, (recomiendo hacerlo regularmente para no llenar el espacio en disco).\n",
    "!rm -rf /home/studio-lab-user/stable-diffusion-webui-reForge/outputs/*"
   ]
  },
  {
   "cell_type": "markdown",
   "id": "8821bb7a-de0d-489e-9146-68b484700480",
   "metadata": {
    "id": "8821bb7a-de0d-489e-9146-68b484700480",
    "tags": []
   },
   "source": [
    "<h5><b>LANZAR SD CON NGROK</b></h5>"
   ]
  },
  {
   "cell_type": "code",
   "execution_count": null,
   "id": "9ea3ea45-056c-4863-a06a-3f7422bf7e20",
   "metadata": {
    "id": "9ea3ea45-056c-4863-a06a-3f7422bf7e20",
    "scrolled": true,
    "tags": []
   },
   "outputs": [],
   "source": [
    "#Don't reForget to paste your NGROK token here\n",
    "%cd ~/stable-diffusion-webui-reForge\n",
    "!python launch.py --ngrok tu_token_aqui --disable-xformers --no-half-vae --enable-insecure-extension-access --theme dark --gradio-queue --no-download-sd-model"
   ]
  },
  {
   "cell_type": "markdown",
   "id": "c9058578-7096-44ce-8ea2-0153cf151c44",
   "metadata": {
    "id": "c9058578-7096-44ce-8ea2-0153cf151c44",
    "jp-MarkdownHeadingCollapsed": true,
    "tags": []
   },
   "source": [
    "<h4><b>🖼️ Step 5. Download all your outputs</b></h4>\n",
    "If your setup folder doesn't have problem, skip this step."
   ]
  },
  {
   "cell_type": "code",
   "execution_count": null,
   "id": "fdeece9b-7e0a-4c93-aec2-6d96b95cdc84",
   "metadata": {
    "id": "fdeece9b-7e0a-4c93-aec2-6d96b95cdc84",
    "tags": []
   },
   "outputs": [],
   "source": [
    "#download and compress all outputs\n",
    "import os\n",
    "import zipfile\n",
    "def zip_folder(input_folder, output_folder, max_size_mb=20):\n",
    "    # Create the output folder if it doesn't exist\n",
    "    os.makedirs(output_folder, exist_ok=True)\n",
    "    zip_number = 1\n",
    "    current_zip_size = 0\n",
    "    current_zip_name = os.path.join(output_folder, f\"part_{zip_number}.zip\")\n",
    "    with zipfile.ZipFile(current_zip_name, 'w', zipfile.ZIP_DEFLATED) as current_zip:\n",
    "        for root, _, files in os.walk(input_folder):\n",
    "            for file in files:\n",
    "                file_path = os.path.join(root, file)\n",
    "                file_size = os.path.getsize(file_path)\n",
    "                # Check if adding the current file exceeds the max size\n",
    "                if current_zip_size + file_size > max_size_mb * 1024 * 1024:\n",
    "                    # Close the current zip file\n",
    "                    current_zip.close()\n",
    "                    # Start a new zip file\n",
    "                    zip_number += 1\n",
    "                    current_zip_name = os.path.join(output_folder, f\"part_{zip_number}.zip\")\n",
    "                    current_zip = zipfile.ZipFile(current_zip_name, 'w', zipfile.ZIP_DEFLATED)\n",
    "                    current_zip_size = 0\n",
    "                # Add the file to the current zip\n",
    "                current_zip.write(file_path, os.path.relpath(file_path, input_folder))\n",
    "                current_zip_size += file_size\n",
    "# Specify the input folder to be zipped\n",
    "input_folder = 'stable-diffusion-webui-reForge/outputs/txt2img-images'  # Replace with the path to your input folder\n",
    "# Specify the output folder where zip files will be saved\n",
    "output_folder = 'outputs'  # Replace with the path to your output folder\n",
    "# Specify the maximum size for each zip file in MB\n",
    "max_size_mb = 199\n",
    "# Create zip files with a maximum size of 20MB\n",
    "zip_folder(input_folder, output_folder, max_size_mb)"
   ]
  }
 ],
 "metadata": {
  "colab": {
   "provenance": []
  },
  "kernelspec": {
   "display_name": "Python 3",
   "language": "python",
   "name": "python3"
  },
  "language_info": {
   "codemirror_mode": {
    "name": "ipython",
    "version": 3
   },
   "file_extension": ".py",
   "mimetype": "text/x-python",
   "name": "python",
   "nbconvert_exporter": "python",
   "pygments_lexer": "ipython3",
   "version": "3.10.6"
  }
 },
 "nbformat": 4,
 "nbformat_minor": 5
}
